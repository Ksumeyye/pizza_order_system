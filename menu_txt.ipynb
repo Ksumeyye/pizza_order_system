{
  "nbformat": 4,
  "nbformat_minor": 0,
  "metadata": {
    "colab": {
      "provenance": []
    },
    "kernelspec": {
      "name": "python3",
      "display_name": "Python 3"
    },
    "language_info": {
      "name": "python"
    }
  },
  "cells": [
    {
      "cell_type": "markdown",
      "source": [
        "*Lutfen Bir Pizza Tabani Seciniz:\n",
        "  Klasik 30 ₺\n",
        "  Margarita 40 ₺\n",
        "  Turk Pizza 45 ₺\n",
        "  Sade Pizza 50 ₺\n",
        " *ve Secmek İstedginiz Soslari Seciniz:\n",
        "  Zeytin 3 ₺\n",
        "  Mantarlar 3 ₺\n",
        "  Keci Peyniri 5 ₺\n",
        "  Et 5 ₺\n",
        "  Sogan 3 ₺\n",
        "  Misir 3 ₺\n",
        " Tesekkur Ederiz!"
      ],
      "metadata": {
        "id": "_qf_sTwMcvXq"
      }
    }
  ]
}