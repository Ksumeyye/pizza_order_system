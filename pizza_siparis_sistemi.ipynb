{
  "nbformat": 4,
  "nbformat_minor": 0,
  "metadata": {
    "colab": {
      "provenance": []
    },
    "kernelspec": {
      "name": "python3",
      "display_name": "Python 3"
    },
    "language_info": {
      "name": "python"
    }
  },
  "cells": [
    {
      "cell_type": "code",
      "execution_count": 1,
      "metadata": {
        "id": "AZ0WWaG4ATPM"
      },
      "outputs": [],
      "source": [
        "import csv "
      ]
    },
    {
      "cell_type": "code",
      "source": [
        "from datetime import datetime"
      ],
      "metadata": {
        "id": "VqAC_sbqBrdg"
      },
      "execution_count": 2,
      "outputs": []
    },
    {
      "cell_type": "code",
      "source": [
        "class Pizza :\n",
        "  def __init__ (self , description = 'Pizza' , cost = 0):\n",
        "      self . description = description\n",
        "      self . cost = cost"
      ],
      "metadata": {
        "id": "tWjqgiPjBuiK"
      },
      "execution_count": 224,
      "outputs": []
    },
    {
      "cell_type": "code",
      "source": [
        "def get_description (self):\n",
        "  return self.description\n",
        "  def get_cost (self): \n",
        "    return self.cost"
      ],
      "metadata": {
        "id": "iXlLSFxuDGml"
      },
      "execution_count": 212,
      "outputs": []
    },
    {
      "cell_type": "code",
      "source": [
        "class KlasikPizza ( Pizza ):\n",
        "    def __init__( self ):\n",
        "      super(). __init__('Klasik Pizza',30)"
      ],
      "metadata": {
        "id": "tip2McpPDrsN"
      },
      "execution_count": 225,
      "outputs": []
    },
    {
      "cell_type": "code",
      "source": [
        "class MargaritaPizza (Pizza):\n",
        "    def __init__ (self):\n",
        "      super(). __init__('Margarita Pizza' , 40)"
      ],
      "metadata": {
        "id": "4BrD_rK1Et_a"
      },
      "execution_count": 226,
      "outputs": []
    },
    {
      "cell_type": "code",
      "source": [
        "class TurkPizza (Pizza):\n",
        "    def __init__ (self):\n",
        "      super(). __init__('Turk Pizza' , 45)"
      ],
      "metadata": {
        "id": "RzcBVKetFCzT"
      },
      "execution_count": 227,
      "outputs": []
    },
    {
      "cell_type": "code",
      "source": [
        "class SadePizza (Pizza):\n",
        "    def __init__ (self):\n",
        "      super(). __init__('Sade Pizza' , 50)"
      ],
      "metadata": {
        "id": "9x1Xo93pFYgf"
      },
      "execution_count": 228,
      "outputs": []
    },
    {
      "cell_type": "code",
      "source": [
        "class Decorators (Pizza):\n",
        "    def __init__ (self, componet, description, cost):\n",
        "      self. component = component\n",
        "      self . description = description\n",
        "      self . cost = cost"
      ],
      "metadata": {
        "id": "CY_EkWUWFUdj"
      },
      "execution_count": 229,
      "outputs": []
    },
    {
      "cell_type": "code",
      "source": [
        "def get_cost (self):\n",
        "  return self.component_get_cost() + Pizza . get_cost(self)"
      ],
      "metadata": {
        "id": "I_XmRO6LGNXI"
      },
      "execution_count": 215,
      "outputs": []
    },
    {
      "cell_type": "code",
      "source": [
        "def get_description (self):\n",
        "  return self_component_description() + '' + Pizza . get_description (self)"
      ],
      "metadata": {
        "id": "cRpwlSZeGzWC"
      },
      "execution_count": 216,
      "outputs": []
    },
    {
      "cell_type": "code",
      "source": [
        "class Zeytin ( Decorators):\n",
        "  def __init__(self,component):\n",
        "    super(). __init__(component, 'ile birlikte Zeytinli Sos',2)"
      ],
      "metadata": {
        "id": "qMB6XeINHQR8"
      },
      "execution_count": 217,
      "outputs": []
    },
    {
      "cell_type": "code",
      "source": [
        "class Mantar ( Decorators):\n",
        "  def __init__(self,component):\n",
        "    super(). __init__(component, 'ile birlikte Mantarlı Sos',2)"
      ],
      "metadata": {
        "id": "leg-aiIdHyhM"
      },
      "execution_count": 218,
      "outputs": []
    },
    {
      "cell_type": "code",
      "source": [
        "class KeciPeyniri ( Decorators):\n",
        "  def __init__(self,component):\n",
        "    super(). __init__(component, 'ile birlikte Keçi Peynirli Sos',2)"
      ],
      "metadata": {
        "id": "JFDP7FFvH7vF"
      },
      "execution_count": 219,
      "outputs": []
    },
    {
      "cell_type": "code",
      "source": [
        "class Et ( Decorators):\n",
        "  def __init__(self,component):\n",
        "    super(). __init__(component, 'ile birlikte Etli Sos',2)"
      ],
      "metadata": {
        "id": "Dlm5wt6UIFGZ"
      },
      "execution_count": 220,
      "outputs": []
    },
    {
      "cell_type": "code",
      "source": [
        "class Sogan ( Decorators):\n",
        "  def __init__(self,component):\n",
        "    super(). __init__(component, 'ile birlikte Soğanlı Sos',2)"
      ],
      "metadata": {
        "id": "pyB8FcyDIN3O"
      },
      "execution_count": 221,
      "outputs": []
    },
    {
      "cell_type": "code",
      "source": [
        "class Misir ( Decorators):\n",
        "  def __init__(self,component):\n",
        "    super(). __init__(component, 'ile birlikte Mısırlı Sos',2)"
      ],
      "metadata": {
        "id": "CyVjinSsIUAg"
      },
      "execution_count": 222,
      "outputs": []
    },
    {
      "cell_type": "code",
      "source": [
        "def csv_writer (name , id_number , cc_number , pizza , sauce , price , cc_password):\n",
        "  an = datetime.datetime.now()\n",
        "  with open ('Orders.csv' , 'w' , newline = '') as file:\n",
        "    writer = csv .write(orders_file)\n",
        "    writer.writerow([f\"ADI= {isim} , KULLANICI ADI= {id_number} , KART NUMARASI= {cc_number} , PİZZASI= {pizza} , SOSU= {sos} , FİYATI= {fiyat} , KART SIFRESI= {cc_password} \"])"
      ],
      "metadata": {
        "id": "OOQw4cQ3IdBB"
      },
      "execution_count": 161,
      "outputs": []
    },
    {
      "cell_type": "code",
      "source": [
        "with open(\"menu.txt\", \"w\") as file:\n",
        "  file.write(\"* Lütfen Bir Pizza Tabanı Seçiniz:\\n1: Klasik\\n2: Margarita\\n3: TürkPizza\\n4: Sade Pizza\\n* ve seçeceğiniz sos:\\n11: Zeytin\\n12: Mantarlar\\n13: Keçi Peyniri\\n14: Et\\n15: Soğan\\n16: Mısır\\n* Teşekkür ederiz!\")\n",
        "  with open('menu.txt' , 'r') as menu_file:\n",
        "    menu= menu_file.read()\n",
        "    print(menu)"
      ],
      "metadata": {
        "colab": {
          "base_uri": "https://localhost:8080/"
        },
        "id": "RLhnBzBZh81w",
        "outputId": "09dcb31c-baeb-471a-a237-ca09871a99bc"
      },
      "execution_count": 162,
      "outputs": [
        {
          "output_type": "stream",
          "name": "stdout",
          "text": [
            "\n"
          ]
        }
      ]
    },
    {
      "cell_type": "code",
      "source": [
        "def main():\n",
        "  isOrderFinished=False\n",
        "  summarizeOrder=[]\n",
        "  print('Değerli Müşterimiz Pizza Sistemine Hoş Geldiniz!\\n\\nMenumuz:\\n')\n",
        "  print(open('Menu.txt','r').read())\n",
        "  while(not isOrderFinished):\n",
        "    pizza_choice = int(input('\\nLütfen pizzanızı seçiniz: '))\n",
        "    while pizza_choice not in range (1,5):\n",
        "      pizza_choice = int(input('Hatalı seçim yapılmıştır. Lütfen 1 ile 5 arasında sayı giriniz: '))\n",
        "      pizza = None \n",
        "      if pizza_choice == 1:\n",
        "          pizza = KlasikPizza()\n",
        "      elif pizza_choice == 2:\n",
        "          pizza = MargaritaPizza()\n",
        "      elif pizza_choice == 3:\n",
        "          pizza = TurkPizza()\n",
        "      elif pizza_choice == 4:\n",
        "          pizza = SadePizza()"
      ],
      "metadata": {
        "id": "cnCWrYLuPKeI"
      },
      "execution_count": 97,
      "outputs": []
    },
    {
      "cell_type": "code",
      "source": [
        "sauce_choice = int(input('\\nLütfen Sosunuzu Seçiniz: '))\n",
        "while sauce_choice not in range(11,17):\n",
        "  sauce_choice = int(input('Hatalı seçim yapılmıştır. Lütfen 11 ile 17 arasında sayı giriniz: '))\n",
        "  if sauce_choice == 11:\n",
        "    pizza = Zeytin(pizza)\n",
        "  elif sauce_choice == 12:\n",
        "    pizza = Mantar(pizza)\n",
        "  elif sauce_choice == 13:\n",
        "    pizza = KeciPeyniri(pizza)\n",
        "  elif sauce_choice == 14:\n",
        "    pizza = Et(pizza)\n",
        "  elif sauce_choice == 15:\n",
        "    pizza = Sogan(pizza)\n",
        "  elif sauce_choice == 16:\n",
        "    pizza = Misir(pizza)\n",
        "    cost = sauce.get_cost()\n",
        "    print('Toplam fiyat: ' , cost)\n",
        "  "
      ],
      "metadata": {
        "colab": {
          "base_uri": "https://localhost:8080/"
        },
        "id": "S-dcqmBhTZBh",
        "outputId": "b13f5218-3759-4d9b-ec70-391b7cb0ea30"
      },
      "execution_count": 231,
      "outputs": [
        {
          "name": "stdout",
          "output_type": "stream",
          "text": [
            "\n",
            "Lütfen Sosunuzu Seçiniz: 13\n"
          ]
        }
      ]
    },
    {
      "cell_type": "code",
      "source": [
        "name =(input('\\nLütfen isminizi giriniz: '))\n",
        "while not name.isalpha():\n",
        "  print('Geçersiz giriş yapılmıştır. Lütfen sadece harfleri kullanınız.')\n",
        "  name= (input('\\nLütfen isminizi giriniz: '))\n",
        "  while True:\n",
        "    try:\n",
        "      id_number = int(input(('Lütfen kullanıcı numarınızı giriniz: ')))\n",
        "      cc_number = int(input('Lütfen kart numarınızı giriniz: '))\n",
        "      cc_password = int(input('Lütfen kredi kartı şifrenizi giriniz: '))\n",
        "      break\n",
        "    except ValueError:\n",
        "        print(\"Geçersizdir. Sadece sayı giriniz.\")\n",
        "        now = datetime.datetime.now()\n",
        "        csv_writer(name, id_number, cc_number, siparisOzeti, toplamTutar, cc_password)\n",
        "        print(\"Tebrikler! Siparişiniz başarıyla oluşturuldu.\")\n",
        "        main()"
      ],
      "metadata": {
        "colab": {
          "base_uri": "https://localhost:8080/"
        },
        "id": "6_iGVw5lZ8UX",
        "outputId": "19e2e0ae-7637-4d1a-933c-1a64d0a59497"
      },
      "execution_count": 205,
      "outputs": [
        {
          "name": "stdout",
          "output_type": "stream",
          "text": [
            "\n",
            "Lütfen isminizi giriniz: sumeyye\n"
          ]
        }
      ]
    }
  ]
}